{
 "cells": [
  {
   "cell_type": "markdown",
   "metadata": {},
   "source": [
    "How do you import the pandas library in Python?: import pandas as pd\n",
    "\n",
    "How do you read a CSV file named data.csv into a pandas DataFrame?: df = pd.read_csv('data.csv')\n",
    "\n",
    "How do you display the first 5 rows of a DataFrame named df?: df.head()\n",
    "\n",
    "How do you find the number of rows and columns in a DataFrame df?: df.shape\n",
    "\n",
    "How do you print the names of all the columns in a DataFrame df?: df.columns\n",
    "\n",
    "How do you get the summary information of the DataFrame df including data types and non-null values?: df.info()\n",
    "\n",
    "How do you select only the rows in DataFrame df where the column A is greater than 5?: df[df['A'] > 5]\n",
    "\n",
    "How do you select the columns A and B from the DataFrame df?: df[['A', 'B']]\n",
    "\n",
    "How do you rename the column A to Alpha in DataFrame df?: df = df.rename(columns={'A': 'Alpha'})\n",
    "\n",
    "How do you replace all occurrences of the value 999 in DataFrame df with nan? import numpy as np\n",
    "df = df.replace(999, np.nan)\n",
    "\n",
    "How do you drop all rows in DataFrame df that contain missing values?: df = df.dropna()\n",
    "\n",
    "How do you fill all missing values in DataFrame df with 0?: df = df.fillna(0)\n",
    "\n",
    "How do you calculate the mean of column A in DataFrame df?: mean_A = df['A'].mean()\n",
    "\n",
    "How do you create a new column C in DataFrame df that is the sum of columns A and B?: df['C'] = df['A'] + df['B']\n",
    "\n",
    "How do you save the DataFrame df to a CSV file named output.csv? (Find the solution by searching the pandas documentation.): df.to_csv('output.csv', index=False)"
   ]
  }
 ],
 "metadata": {
  "language_info": {
   "name": "python"
  }
 },
 "nbformat": 4,
 "nbformat_minor": 2
}
