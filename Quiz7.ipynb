{
 "cells": [
  {
   "cell_type": "markdown",
   "metadata": {},
   "source": [
    "How do you import the Seaborn package in Python? import seaborn as sns\n",
    "\n",
    "How do you create a scatter plot in Seaborn for variables x and y in a DataFrame df? sns.scatterplot(data=df, x='x', y='y')\n",
    "\n",
    "How do you create a line plot in Seaborn for variables x and y in a DataFrame df?:  sns.lineplot(data=df, x='x', y='y')\n",
    "\n",
    "How do you create a histogram in Seaborn for a variable x in a DataFrame df? sns.histplot(data=df, x='x')\n",
    "\n",
    "How do you create a stacked histogram in Seaborn for variables x and 'hue' y in a DataFrame df? sns.histplot(data=df, x='x', hue='y', multiple='stack')\n",
    "\n",
    "How do you create a heatmap in Seaborn for a variable x and y in a DataFrame df? sns.heatmap(df.corr())\n",
    "\n",
    "How do you create a box plot in Seaborn for variables x and y in a DataFrame df? sns.boxplot(data=df, x='x', y='y')\n",
    "\n",
    "How do you create a violin plot in Seaborn for variables x and y in a DataFrame df?: sns.violinplot(data=df, x='x', y='y')\n",
    "\n",
    "How do you create a bar plot in Seaborn for variables x and y in a DataFrame df? sns.barplot(data=df, x='x', y='y')\n",
    "\n",
    "How do you add a title to a Seaborn plot assigned to the variable ax with the title 'My Title'? ax = sns.scatterplot(data=df, x='x', y='y')\n",
    "ax.set_title('My Title')\n",
    "\n",
    "How do you save a Seaborn plot ax to a file named 'output.png'?: plt.savefig('output.png')\n",
    "\n",
    "How do you set the x and y axis labels to 'X Label' and 'Y Label' respectively for a Seaborn plot ax?: ax = sns.scatterplot(data=df, x='x', y='y')\n",
    "ax.set_xlabel('X Label')\n",
    "ax.set_ylabel('Y Label')\n",
    "\n",
    "How do you change the color palette of a Seaborn plot to 'Blues'?: sns.set_palette('Blues')\n",
    "\n",
    "How do you display a Seaborn plot with a logarithmic scale on the y-axis?: ax = sns.scatterplot(data=df, x='x', y='y')\n",
    "ax.set_yscale('log')\n",
    "\n",
    "How do you add a regression line to a scatter plot in Seaborn for variables x and y in a DataFrame df?: sns.regplot(data=df, x='x', y='y')\n"
   ]
  }
 ],
 "metadata": {
  "language_info": {
   "name": "python"
  }
 },
 "nbformat": 4,
 "nbformat_minor": 2
}
