{
 "cells": [
  {
   "cell_type": "markdown",
   "metadata": {},
   "source": [
    "What is the difference between a spreadsheet and a database?: a spreadhsett is a single-file data with rows and columns designed for inidvidaul use.: a database is a collection of data with relationship sbetwen data meant to be used my multiple users\n",
    "What are the advantages and disadvantages of using a spreadsheet for health data management?: easy to leanrs and has quick data entry, howerver it has limited data integrity and is poor for large data sets\n",
    "What are the advantages and disadvantages of using a database for health data management?: Advantages: Good for large datasets and is more secure, howerver it is more comlex to set up and cost more to maintain\n",
    "What are some examples of tasks that can be performed using a spreadsheet?: simple calculations, small data set analyis\n",
    "What are some examples of tasks that can be performed using a database?: electronic health records, clinical trial data managment\n",
    "What are some examples of tasks that can be performed using both a spreadsheet and a database?: patient demographic tracking and data entry\n",
    "What are some examples of tasks that can be performed using neither a spreadsheet nor a database?: real time monitoring, nd comlex ai anaylis \n",
    "What are some examples of tasks that can be performed using a spreadsheet but not a database?: ad-hoc calculatoins and simople data entry forms\n",
    "What are some examples of tasks that can be performed using a database but not a spreadsheet?: multi-user processing and large scale data wharehousing\n",
    "What are some examples of tasks that can be performed using both a spreadsheet and a database?: both are used for appointmeant tracings and simple reporting"
   ]
  }
 ],
 "metadata": {
  "language_info": {
   "name": "python"
  }
 },
 "nbformat": 4,
 "nbformat_minor": 2
}
