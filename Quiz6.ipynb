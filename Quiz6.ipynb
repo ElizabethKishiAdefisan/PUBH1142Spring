{
 "cells": [
  {
   "cell_type": "markdown",
   "metadata": {},
   "source": [
    "How do you import the pandas package in Python?: import pandas as pd\n",
    "\n",
    "What function do you use to read a CSV file in pandas?: df = pd.read_csv('filename.csv')\n",
    "\n",
    "How do you display the first 5 rows of a DataFrame in pandas? df.head()\n",
    " or specify number of rows\n",
    "df.head(5)\n",
    "\n",
    "How do you calculate the mean of a column named Age in a DataFrame named df? mean_age = df['Age'].mean()\n",
    "\n",
    "How do you calculate the median of a column named Salary in a DataFrame named df? median_salary = df['Salary'].median()\n",
    "\n",
    "How do you calculate the standard deviation of a column named Score in a DataFrame named df? std_score = df['Score'].std()\n",
    "\n",
    "How do you find the number of missing values in each column of a DataFrame named df? missing_values = df.isnull().sum()\n",
    "\n",
    "How do you calculate the correlation between two columns, Age and Salary, in a DataFrame named df? correlation = df['Age'].corr(df['Salary'])\n",
    "For all columns:\n",
    "correlation_matrix = df.corr()\n",
    "\n",
    "How do you select a subset of a DataFrame df where the column Age is greater than 30? filtered_df = df[df['Age'] > 30]\n",
    "\n",
    "How do you calculate the range (maximum - minimum) of a column named Score in a DataFrame named df? score_range = df['Score'].max() - df['Score'].min()\n",
    "\n",
    "How do you group a DataFrame df by a column named Department and calculate the mean of Salary within each group? dept_salary = df.groupby('Department')['Salary'].mean()\n",
    "\n",
    "How do you group a DataFrame df by two columns, Department and Job Title, and count the number of rows within each group? group_counts = df.groupby(['Department', 'Job Title']).size()\n",
    "\n",
    "How do you use the groupby method to find the maximum Age in each Department in a DataFrame df? group_counts = df.groupby(['Department', 'Job Title']).size()\n",
    "\n",
    "How do you create a cross-tabulation table that shows the frequency count of Department (rows) and Job Title (columns) in a DataFrame df? freq_table = pd.crosstab(df['Department'], df['Job Title'])\n",
    "\n",
    "How do you create a cross-tabulation table that shows the mean Salary for each combination of Department (rows) and Job Title (columns) in a DataFrame df: salary_table = pd.crosstab(df['Department'], df['Job Title'], \n",
    "                          values=df['Salary'], \n",
    "                          aggfunc='mean')"
   ]
  }
 ],
 "metadata": {
  "language_info": {
   "name": "python"
  }
 },
 "nbformat": 4,
 "nbformat_minor": 2
}
