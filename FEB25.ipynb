{
 "cells": [
  {
   "cell_type": "code",
   "execution_count": 1,
   "metadata": {},
   "outputs": [
    {
     "name": "stdout",
     "output_type": "stream",
     "text": [
      "[1, 2, 3, 4, 5, 'one', 'two', 'three', 'four', 'five']\n",
      "[1, 2, 3, 4, 5, 'one', 'two', 'three', 'four', 'five']\n",
      "[1, 2, 3, 4]\n",
      "['first, second, ninth', 2, 3, 4, 5, 'one', 'two', 'three', 'four', 'five']\n",
      "10\n",
      "f\n"
     ]
    }
   ],
   "source": [
    "# Create a list of five integers and five strings\n",
    "\n",
    "integers = [1, 2, 3, 4, 5]\n",
    "strings = ['one', 'two', 'three', 'four', 'five']\n",
    "# Combine integers and strings into a single list\n",
    "\n",
    "combined = integers + strings\n",
    "# Print the combined list\n",
    "\n",
    "print(combined)\n",
    "\n",
    "#Assign the elements of the combined list to a new list named my_list\n",
    "\n",
    "my_list = combined\n",
    "print(my_list)\n",
    "\n",
    "#Retrieve the the fist four elements from my_list\n",
    "\n",
    "print(my_list[:4])\n",
    "\n",
    "#Assign different element to the first element to my_list[0]\n",
    "my_list[0]= \"first, second, ninth\"\n",
    "print(my_list)\n",
    "L = len(my_list)\n",
    "print(L)\n",
    "\n",
    "first_letter = my_list[0][0]\n",
    "print(first_letter)\n",
    "\n"
   ]
  },
  {
   "cell_type": "markdown",
   "metadata": {},
   "source": [
    "APPEND adds a singular element to the end of a list, INSERT adds an index to a list, Extend adds multiple elements to the end of the list\n"
   ]
  },
  {
   "cell_type": "markdown",
   "metadata": {},
   "source": [
    "## What are the differences between extert, append, and insert in Python?\n"
   ]
  },
  {
   "cell_type": "code",
   "execution_count": 3,
   "metadata": {},
   "outputs": [
    {
     "name": "stdout",
     "output_type": "stream",
     "text": [
      "(1, 3, 6, ['g', 'i', 'r', 'l'])\n",
      "6\n",
      "('Python', 'R', 'Julia')\n",
      "Python\n"
     ]
    }
   ],
   "source": [
    "tuple1 = (1, 3, 6, list('girl'))\n",
    "print(tuple1)\n",
    "tuple_1 = tuple1[2]\n",
    "print(tuple_1)\n",
    "# Create a tuple with the string elements 'Python', 'R', and 'Julia' and assign it to the variable \n",
    "\n",
    "tuple2 = ('Python', 'R', 'Julia')\n",
    "print(tuple2)\n",
    "#Assign each element of the tuple to a seperate variable, using the variable names one, two, and three\n",
    "\n",
    "one, two, three = tuple2\n",
    "print(one)\n",
    "\n"
   ]
  },
  {
   "cell_type": "markdown",
   "metadata": {},
   "source": [
    "## ZIP, SETS, and DICTS"
   ]
  },
  {
   "cell_type": "markdown",
   "metadata": {},
   "source": [
    "How wold we use sets and Dicts to define datasets"
   ]
  },
  {
   "cell_type": "code",
   "execution_count": 6,
   "metadata": {},
   "outputs": [
    {
     "name": "stdout",
     "output_type": "stream",
     "text": [
      "{1, 2, 3, 4, 5}\n",
      "{1, 2, 3, 5}\n",
      "{1, 2, 3, 5, 6}\n",
      "{0, 1, 3, 4, 6, 8, 9, 11}\n",
      "set()\n",
      "{0, 11, 4, 6}\n"
     ]
    }
   ],
   "source": [
    "#Generate set with the elements of 1, 2,2, 3, 4, 4, 4, 5, 5, 3, \n",
    "set1 = {1, 2, 2, 3, 4, 4, 4, 5, 5, 3}\n",
    "print(set1)\n",
    "#Let's remove an element of a set\n",
    "set1.remove(4)\n",
    "print(set1)\n",
    "#Add an element to the set\n",
    "set1.add(6)\n",
    "\n",
    "print(set1)\n",
    "#Lets compare two sets\n",
    "set2 = {0, 4, 6, 11}\n",
    "set3 = {1, 3, 9, 8}\n",
    "\n",
    "#Let's combine the two sets\n",
    "set4 = set2.union(set3)\n",
    "\n",
    "print(set4)\n",
    "#Let's find the intersection of the two sets\n",
    "set5 = set2.intersection(set3)\n",
    "print(set5)\n",
    "#What is the difference between the two sets\n",
    "set6 = set2.difference(set3)\n",
    "print(set6)\n"
   ]
  },
  {
   "cell_type": "markdown",
   "metadata": {},
   "source": [
    "## QUIZ QUESTIONS AND ANSWERS"
   ]
  },
  {
   "cell_type": "markdown",
   "metadata": {},
   "source": [
    "How do you define a list in Python?: A list is a set of elelments\n",
    "\n",
    "How do you access the third element of a Python list named my_list?: do list_[2]\n",
    "\n",
    "How can you add the element \"new_item\" to the end of an existing list named my_list? list.append(whatever)\n",
    "\n",
    "*How do you create a Python tuple with the items \"apple\", \"banana\", and \"cherry\"? tuple= (\"apple\", \"banana\", and \"cherry\")\n",
    "\n",
    "How do you access the first element of a Python tuple named my_tuple? tuple[0]\n",
    "\n",
    "How do you define a dictionary in Python with keys \"name\", \"age\" and values \"John Doe\", 30? dict = {\"names\": \"john doe\", \"age\": 30}\n",
    "\n",
    "How can you retrieve the value for the key \"name\" from the dictionary my_dict: name = dict.value[\"name\"]\n",
    "\n",
    "How can you change the value associated with the key \"age\" in the dictionary my_dict to 35? dict.value[\"age\"] = 35\n",
    "\n",
    "How can you add a new key-value pair \"city\":\"New York\" to the dictionary my_dict?\n",
    "dict[\"city\"] = \"New York\n",
    "\n",
    "*How do you create a set in Python with the items \"apple\", \"banana\", and \"cherry\"? my_set = {\"apple\", \"banana\", and \"cherry\"}\n",
    "\n",
    "How do you add the item \"orange\" to an existing set my_set? my_set.add(\"orange\")\n",
    "\n",
    "How do you remove the item \"banana\" from the set my_set? my_set.remove(\"banana\")\n",
    "\n",
    "What is the length of a list my_list with elements [1, 2, 3, 4, 5]? L = len(my_list) = 5\n",
    "\n",
    "What will be the result of my_list * 2 if my_list is [1, 2, 3]? [1, 2, 3, 1, 2, 3]\n",
    "\n",
    "What is the result of set([1,2,2,3,4,4,4,5,5])? my_set = {1, 2, 3, 4, 5}"
   ]
  }
 ],
 "metadata": {
  "kernelspec": {
   "display_name": ".venv",
   "language": "python",
   "name": "python3"
  },
  "language_info": {
   "codemirror_mode": {
    "name": "ipython",
    "version": 3
   },
   "file_extension": ".py",
   "mimetype": "text/x-python",
   "name": "python",
   "nbconvert_exporter": "python",
   "pygments_lexer": "ipython3",
   "version": "3.9.6"
  }
 },
 "nbformat": 4,
 "nbformat_minor": 2
}
