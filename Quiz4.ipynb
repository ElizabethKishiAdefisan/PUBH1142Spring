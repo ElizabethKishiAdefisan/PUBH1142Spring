{
 "cells": [
  {
   "cell_type": "markdown",
   "metadata": {},
   "source": [
    "How do you define a list in Python? my_list = [1, 2, 3, 4, 5] or my_list = []  # empty list\n",
    "\n",
    "How do you access the third element of a Python list named my_list? third_element = my_list[2]\n",
    "\n",
    "How can you add the element \"new_item\" to the end of an existing list named my_list? my_list.append(\"new_item\")\n",
    "\n",
    "*How do you create a Python tuple with the items \"apple\", \"banana\", and \"cherry\"? my_tuple = (\"apple\", \"banana\", \"cherry\")\n",
    "\n",
    "How do you access the first element of a Python tuple named my_tuple? first_element = my_tuple[0]\n",
    "\n",
    "How do you define a dictionary in Python with keys \"name\", \"age\" and values \"John Doe\", 30? my_dict = {\n",
    "    \"name\": \"John Doe\",\n",
    "    \"age\": 30\n",
    "}\n",
    "\n",
    "How can you retrieve the value for the key \"name\" from the dictionary my_dict: name = my_dict[\"name\"]\n",
    "\n",
    "How can you change the value associated with the key \"age\" in the dictionary my_dict to 35? my_dict[\"age\"] = 35\n",
    "\n",
    "How can you add a new key-value pair \"city\":\"New York\" to the dictionary my_dict? my_dict[\"city\"] = \"New York\"\n",
    "\n",
    "*How do you create a set in Python with the items \"apple\", \"banana\", and \"cherry\"?:  my_set = {\"apple\", \"banana\", \"cherry\"}\n",
    "\n",
    "How do you add the item \"orange\" to an existing set my_set? my_set.add(\"orange\")\n",
    "\n",
    "How do you remove the item \"banana\" from the set my_set? length = len(my_list)  # Returns 5 for [1, 2, 3, 4, 5]\n",
    "\n",
    "What is the length of a list my_list with elements [1, 2, 3, 4, 5]?: length = len(my_list)  # Returns 5 for [1, 2, 3, 4, 5]. length is 5\n",
    "\n",
    "What will be the result of my_list * 2 if my_list is [1, 2, 3]?: result = [1, 2, 3] * 2  # Returns [1, 2, 3, 1, 2, 3]\n",
    "\n",
    "What is the result of set([1,2,2,3,4,4,4,5,5]): result = set([1,2,2,3,4,4,4,5,5])  # Returns {1, 2, 3, 4, 5}"
   ]
  }
 ],
 "metadata": {
  "language_info": {
   "name": "python"
  }
 },
 "nbformat": 4,
 "nbformat_minor": 2
}
